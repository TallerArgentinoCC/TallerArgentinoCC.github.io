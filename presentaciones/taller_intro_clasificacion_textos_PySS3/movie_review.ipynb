{
 "cells": [
  {
   "cell_type": "markdown",
   "metadata": {},
   "source": [
    "# Movie Review (Sentiment Analysis)\n",
    "\n",
    "This is the notebook for the tutorial [\"Movie Review - Classic Workflow\"](https://pyss3.readthedocs.io/en/latest/tutorials/movie-review.html#movie-review_classic-workflow) of [PySS3](https://pyss3.readthedocs.io).\n",
    "\n",
    "---"
   ]
  },
  {
   "cell_type": "markdown",
   "metadata": {},
   "source": [
    "Before we begin, let's import needed modules..."
   ]
  },
  {
   "cell_type": "code",
   "execution_count": null,
   "metadata": {},
   "outputs": [],
   "source": [
    "from pyss3 import SS3\n",
    "from pyss3.util import Dataset\n",
    "from pyss3.server import Server\n",
    "\n",
    "from sklearn.metrics import accuracy_score"
   ]
  },
  {
   "cell_type": "markdown",
   "metadata": {},
   "source": [
    "... and unzip the \"movie_review.zip\" dataset inside the `datasets` folder."
   ]
  },
  {
   "cell_type": "code",
   "execution_count": null,
   "metadata": {},
   "outputs": [],
   "source": [
    "!unzip -u datasets/movie_review.zip -d datasets/"
   ]
  },
  {
   "cell_type": "markdown",
   "metadata": {},
   "source": [
    "Ok, now we are ready to begin. Let's create a new SS3 instance"
   ]
  },
  {
   "cell_type": "code",
   "execution_count": null,
   "metadata": {},
   "outputs": [],
   "source": [
    "clf = SS3()"
   ]
  },
  {
   "cell_type": "markdown",
   "metadata": {},
   "source": [
    "What are the default [hyperparameter](https://pyss3.readthedocs.io/en/latest/user_guide/ss3-classifier.html#hyperparameters) values? let's see"
   ]
  },
  {
   "cell_type": "code",
   "execution_count": null,
   "metadata": {},
   "outputs": [],
   "source": [
    "s, l, p, _ = clf.get_hyperparameters()\n",
    "\n",
    "print(\"Smoothness(s):\", s)\n",
    "print(\"Significance(l):\", l)\n",
    "print(\"Sanction(p):\", p)"
   ]
  },
  {
   "cell_type": "markdown",
   "metadata": {},
   "source": [
    "Ok, now let's load the training and the test set using the `load_from_files` function from `pyss3.util` as follow:"
   ]
  },
  {
   "cell_type": "code",
   "execution_count": null,
   "metadata": {},
   "outputs": [],
   "source": [
    "x_train, y_train = Dataset.load_from_files(\"datasets/movie_review/train\")\n",
    "x_test, y_test = Dataset.load_from_files(\"datasets/movie_review/test\")"
   ]
  },
  {
   "cell_type": "markdown",
   "metadata": {},
   "source": [
    "Let's train our model...\n"
   ]
  },
  {
   "cell_type": "code",
   "execution_count": null,
   "metadata": {},
   "outputs": [],
   "source": [
    "clf.fit(x_train, y_train)"
   ]
  },
  {
   "cell_type": "markdown",
   "metadata": {},
   "source": [
    "Note that we don't have to create any document-term matrix! we are using just the plain `x_train` documents :D cool uh? (SS3 creates a language model for each category and therefore it doesn't need to create any document-term matrices)\n",
    "\n",
    "Now that the model has been trained, let's test it using the documents in `x_test`"
   ]
  },
  {
   "cell_type": "code",
   "execution_count": null,
   "metadata": {
    "scrolled": true
   },
   "outputs": [],
   "source": [
    "y_pred = clf.predict(x_test)"
   ]
  },
  {
   "cell_type": "markdown",
   "metadata": {},
   "source": [
    "Let's see how good our model performed"
   ]
  },
  {
   "cell_type": "code",
   "execution_count": null,
   "metadata": {
    "scrolled": true
   },
   "outputs": [],
   "source": [
    "print(\"Accuracy:\", accuracy_score(y_pred, y_test))"
   ]
  },
  {
   "cell_type": "markdown",
   "metadata": {},
   "source": [
    "Not bad using the default [hyperparameter](https://pyss3.readthedocs.io/en/latest/user_guide/ss3-classifier.html#hyperparameters) values, let's now manually analyze what our model has actually learned by using the interactive \"live test\".\n"
   ]
  },
  {
   "cell_type": "code",
   "execution_count": null,
   "metadata": {},
   "outputs": [],
   "source": [
    "Server.serve(clf, x_test, y_test)  # <- ONLY WORKS if you're working locally, sorry :(\n",
    "                                   #    if you're working online through Binder, it won't work"
   ]
  },
  {
   "cell_type": "markdown",
   "metadata": {},
   "source": [
    "<span style=\"color:red\">(!) To stop the server, press `Esc` and then the `I` key twice</span>"
   ]
  },
  {
   "cell_type": "markdown",
   "metadata": {},
   "source": [
    "Makes sense to you? (remember you can select \"words\" as the Description Level if you want to know based on what words is making classification decisions)\n",
    "\n",
    "Live test doesn't look bad, however, we will create a \"more intelligent\" version of this model, a version that can recognize variable-length word n-grams \"on the fly\". Thus, when calling the `fit` we will pass an extra argument `n_grams=3` to indicate we want SS3 to learn to recognize important words, bigrams, and 3-grams **\\[*\\]**. Additionally, we will name our model \"movie_review_3grams\" so that we can save it and load it later from the `PySS3 Command Line` to perform the hyperparameter optimization to find better [hyperparameter](https://pyss3.readthedocs.io/en/latest/user_guide/ss3-classifier.html#hyperparameters) values.\n",
    "\n",
    "_**\\[*\\]** If you're curious and want to know how this is actually done by SS3, read the paper \"t-SS3: a text classifier with dynamic n-grams for early risk detection over text streams\" (preprint available [here](https://arxiv.org/abs/1911.06147))._"
   ]
  },
  {
   "cell_type": "code",
   "execution_count": null,
   "metadata": {},
   "outputs": [],
   "source": [
    "clf = SS3(name=\"movie_review_3grams\")\n",
    "\n",
    "clf.fit(x_train, y_train, n_grams=3)  # <-- note the n_grams=3 argument here"
   ]
  },
  {
   "cell_type": "markdown",
   "metadata": {},
   "source": [
    "As mentioned above, we will save this trained model for later use"
   ]
  },
  {
   "cell_type": "code",
   "execution_count": null,
   "metadata": {
    "scrolled": true
   },
   "outputs": [],
   "source": [
    "clf.save_model()"
   ]
  },
  {
   "cell_type": "markdown",
   "metadata": {},
   "source": [
    "Now let's see if the performance has improved..."
   ]
  },
  {
   "cell_type": "code",
   "execution_count": null,
   "metadata": {},
   "outputs": [],
   "source": [
    "y_pred = clf.predict(x_test)\n",
    "print(\"Accuracy:\", accuracy_score(y_pred, y_test))"
   ]
  },
  {
   "cell_type": "markdown",
   "metadata": {},
   "source": [
    "Yeah, the accuracy slightly improved but more importantly, we should now see that the model has learned \"more intelligent patterns\" involving sequences of words when using the interactive \"live test\" (like \"was supposed to\", \"has nothing to\", \"low budget\", \"your money\", etc. for the \"negative\" class). Let's see..."
   ]
  },
  {
   "cell_type": "code",
   "execution_count": null,
   "metadata": {},
   "outputs": [],
   "source": [
    "Server.serve(clf, x_test, y_test)  # <- ONLY WORKS if you're working locally, sorry :(\n",
    "                                   #    if you're working online through Binder, it won't work\n",
    "\n",
    "# (!) Remember: to stop the server, press `Esc` and then the `I` key twice"
   ]
  },
  {
   "cell_type": "markdown",
   "metadata": {},
   "source": [
    "*<span style=\"color:blue\">At this point you should read the [\"Hyperparameter Optimization\"](https://pyss3.readthedocs.io/en/latest/tutorials/movie-review.html#hyperparameter-optimization) section of this tutorial.</span>*\n",
    "\n",
    "As described in the \"Hyperparameter Optimization\" section, after performing hyperparameter optimization using the `PySS3 Command Line`, we found out that, for example, the following [hyperparameter](https://pyss3.readthedocs.io/en/latest/user_guide/ss3-classifier.html#hyperparameters) values will slightly improve our classification performance"
   ]
  },
  {
   "cell_type": "code",
   "execution_count": null,
   "metadata": {},
   "outputs": [],
   "source": [
    "clf.set_hyperparameters(s=.44, l=.48, p=1.1)"
   ]
  },
  {
   "cell_type": "markdown",
   "metadata": {},
   "source": [
    "Let's see if it's true..."
   ]
  },
  {
   "cell_type": "code",
   "execution_count": null,
   "metadata": {},
   "outputs": [],
   "source": [
    "y_pred = clf.predict(x_test)"
   ]
  },
  {
   "cell_type": "code",
   "execution_count": null,
   "metadata": {},
   "outputs": [],
   "source": [
    "print(\"Accuracy:\", accuracy_score(y_pred, y_test))"
   ]
  },
  {
   "cell_type": "markdown",
   "metadata": {},
   "source": [
    "Great! the accuracy has improved."
   ]
  },
  {
   "cell_type": "markdown",
   "metadata": {},
   "source": [
    "Let's check what our final model looks like..."
   ]
  },
  {
   "cell_type": "code",
   "execution_count": null,
   "metadata": {},
   "outputs": [],
   "source": [
    "Server.serve(clf, x_test, y_test)  # <- ONLY WORKS if you're working locally, sorry :(\n",
    "                                   #    if you're working online through Binder, it won't work\n",
    "\n",
    "# (!) Remember: to stop the server, press `Esc` and then the `I` key twice"
   ]
  },
  {
   "cell_type": "markdown",
   "metadata": {},
   "source": [
    "Looks good! :D\n",
    "\n",
    "... and that's all for now!"
   ]
  }
 ],
 "metadata": {
  "kernelspec": {
   "display_name": "Python3 (p3+pyss3)",
   "language": "python",
   "name": "p3.pyss3"
  },
  "language_info": {
   "codemirror_mode": {
    "name": "ipython",
    "version": 3
   },
   "file_extension": ".py",
   "mimetype": "text/x-python",
   "name": "python",
   "nbconvert_exporter": "python",
   "pygments_lexer": "ipython3",
   "version": "3.7.5"
  }
 },
 "nbformat": 4,
 "nbformat_minor": 2
}
