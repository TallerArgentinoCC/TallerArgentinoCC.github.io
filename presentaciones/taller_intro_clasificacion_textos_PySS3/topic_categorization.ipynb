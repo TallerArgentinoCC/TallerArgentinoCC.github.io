{
 "cells": [
  {
   "cell_type": "markdown",
   "metadata": {},
   "source": [
    "# Topic Categorization\n",
    "\n",
    "This is the notebook for the tutorial [\"Topic Categorization - Classic Workflow\"](https://pyss3.readthedocs.io/en/latest/tutorials/topic-categorization.html#topic_classic-workflow) of [PySS3](https://pyss3.readthedocs.io).\n",
    "\n",
    "---"
   ]
  },
  {
   "cell_type": "markdown",
   "metadata": {},
   "source": [
    "Before we begin, let's import needed modules..."
   ]
  },
  {
   "cell_type": "code",
   "execution_count": null,
   "metadata": {},
   "outputs": [],
   "source": [
    "from pyss3 import SS3\n",
    "from pyss3.util import Dataset\n",
    "from pyss3.server import Server\n",
    "\n",
    "from sklearn.metrics import accuracy_score"
   ]
  },
  {
   "cell_type": "markdown",
   "metadata": {},
   "source": [
    "... and unzip the \"movie_review.zip\" dataset inside the `datasets` folder."
   ]
  },
  {
   "cell_type": "code",
   "execution_count": null,
   "metadata": {},
   "outputs": [],
   "source": [
    "!unzip -u datasets/topic.zip -d datasets/"
   ]
  },
  {
   "cell_type": "markdown",
   "metadata": {},
   "source": [
    "Ok, now we are ready to begin. Let's create a new SS3 instance"
   ]
  },
  {
   "cell_type": "code",
   "execution_count": null,
   "metadata": {},
   "outputs": [],
   "source": [
    "clf = SS3()"
   ]
  },
  {
   "cell_type": "markdown",
   "metadata": {},
   "source": [
    "What are the default [hyperparameter](https://pyss3.readthedocs.io/en/latest/user_guide/ss3-classifier.html#hyperparameters) values? let's see"
   ]
  },
  {
   "cell_type": "code",
   "execution_count": null,
   "metadata": {},
   "outputs": [],
   "source": [
    "s, l, p, _ = clf.get_hyperparameters()\n",
    "\n",
    "print(\"Smoothness(s):\", s)\n",
    "print(\"Significance(l):\", l)\n",
    "print(\"Sanction(p):\", p)"
   ]
  },
  {
   "cell_type": "markdown",
   "metadata": {},
   "source": [
    "Ok, now let's load the training and the test set using the `load_from_files` function from `pyss3.util`. Since, in this dataset, there's a single file for each category, we will use the argument ``folder_label=False`` to tell PySS3 to use each file as a different category and each line inside of it as a different document:"
   ]
  },
  {
   "cell_type": "code",
   "execution_count": null,
   "metadata": {},
   "outputs": [],
   "source": [
    "x_train, y_train = Dataset.load_from_files(\"datasets/topic/train\", folder_label=False)\n",
    "x_test, y_test = Dataset.load_from_files(\"datasets/topic/test\", folder_label=False)"
   ]
  },
  {
   "cell_type": "markdown",
   "metadata": {},
   "source": [
    "Let's train our model...\n"
   ]
  },
  {
   "cell_type": "code",
   "execution_count": null,
   "metadata": {},
   "outputs": [],
   "source": [
    "clf.fit(x_train, y_train)"
   ]
  },
  {
   "cell_type": "markdown",
   "metadata": {},
   "source": [
    "Note that we don't have to create any document-term matrix! we are using just the plain `x_train` documents :D cool uh? (SS3 creates a language model for each category and therefore it doesn't need to create any document-term matrices)\n",
    "\n",
    "Now that the model has been trained, let's test it using the documents in `x_test`"
   ]
  },
  {
   "cell_type": "code",
   "execution_count": null,
   "metadata": {
    "scrolled": true
   },
   "outputs": [],
   "source": [
    "y_pred = clf.predict(x_test)"
   ]
  },
  {
   "cell_type": "markdown",
   "metadata": {},
   "source": [
    "Let's see how good our model performed"
   ]
  },
  {
   "cell_type": "code",
   "execution_count": null,
   "metadata": {
    "scrolled": true
   },
   "outputs": [],
   "source": [
    "print(\"Accuracy:\", accuracy_score(y_pred, y_test))"
   ]
  },
  {
   "cell_type": "markdown",
   "metadata": {},
   "source": [
    "Not bad using the default [hyperparameter](https://pyss3.readthedocs.io/en/latest/user_guide/ss3-classifier.html#hyperparameters) values... let's manually analyze what this model has actually learned by using the interactive \"live test\". Note that since we are not going to use the `x_test` for this live test**(\\*)** but instead the documents in \"datasets/topic/live_test\", we must use the `set_testset_from_files` method to tell the server to load documents from there instead.\n",
    "\n",
    "**(\\*)** *try it if you want but since `x_test` contains (preprocessed) tweets, they don't look really good and clean.*"
   ]
  },
  {
   "cell_type": "code",
   "execution_count": null,
   "metadata": {},
   "outputs": [],
   "source": [
    "# Server.serve(clf, x_test, y_test)  # <- this visualization doesn't look really clean and good so, instead,\n",
    "                                     #    we will use the documents in \"live_test\" folder:\n",
    "\n",
    "Server.set_testset_from_files(\"datasets/topic/live_test\")\n",
    "\n",
    "Server.serve(clf)  # <- ONLY WORKS if you're working locally, sorry :(\n",
    "                   #    if you're working online through Binder, it won't work"
   ]
  },
  {
   "cell_type": "markdown",
   "metadata": {},
   "source": [
    "<span style=\"color:red\">(!) To stop the server, press `Esc` and then the `I` key twice</span>"
   ]
  },
  {
   "cell_type": "markdown",
   "metadata": {},
   "source": [
    "Live test doesn't look bad, however, we will create a \"more intelligent\" version of this model, a version that can recognize variable-length word n-grams \"on the fly\". Thus, when calling the `fit` we will pass an extra argument `n_grams=3` to indicate we want SS3 to learn to recognize important words, bigrams, and 3-grams **(\\*)**. Additionally, we will name our model \"topic_categorization_3grams\" so that we can save it and load it later from the `PySS3 Command Line` to perform the hyperparameter optimization to find better [hyperparameter](https://pyss3.readthedocs.io/en/latest/user_guide/ss3-classifier.html#hyperparameters) values.\n",
    "\n",
    "**(\\*)** *If you're curious and want to know how this is actually done by SS3, read the paper \"t-SS3: a text classifier with dynamic n-grams for early risk detection over text streams\" (preprint available [here](https://arxiv.org/abs/1911.06147)).*"
   ]
  },
  {
   "cell_type": "code",
   "execution_count": null,
   "metadata": {},
   "outputs": [],
   "source": [
    "clf = SS3(name=\"topic_categorization_3grams\")\n",
    "\n",
    "clf.fit(x_train, y_train, n_grams=3)  # <-- note the n_grams=3 argument here"
   ]
  },
  {
   "cell_type": "markdown",
   "metadata": {},
   "source": [
    "As mentioned above, we will save this trained model for later use"
   ]
  },
  {
   "cell_type": "code",
   "execution_count": null,
   "metadata": {
    "scrolled": true
   },
   "outputs": [],
   "source": [
    "clf.save_model()"
   ]
  },
  {
   "cell_type": "markdown",
   "metadata": {},
   "source": [
    "Now let's see if the performance has improved..."
   ]
  },
  {
   "cell_type": "code",
   "execution_count": null,
   "metadata": {},
   "outputs": [],
   "source": [
    "y_pred = clf.predict(x_test)\n",
    "print(\"Accuracy:\", accuracy_score(y_pred, y_test))"
   ]
  },
  {
   "cell_type": "markdown",
   "metadata": {},
   "source": [
    "Yeah, the accuracy slightly improved but more importantly, we should now see that the model has learned \"more intelligent patterns\" involving sequences of words when using the interactive \"live test\" (like \"machine learning\", \"artificial intelligence\", \"self-driving cars\", etc. for the \"science&technology\" category). Let's see..."
   ]
  },
  {
   "cell_type": "code",
   "execution_count": null,
   "metadata": {},
   "outputs": [],
   "source": [
    "Server.serve(clf)  # <- ONLY WORKS if you're working locally, sorry :(\n",
    "                   #    if you're working online through Binder, it won't work\n",
    "\n",
    "# (!) Remember: to stop the server, press `Esc` and then the `I` key twice"
   ]
  },
  {
   "cell_type": "markdown",
   "metadata": {},
   "source": [
    "Fortunately, our model has learned to recognize these important sequences (such as \"artificial intelligence\" and \"machine learning\" in doc_2.txt,  \"self-driving cars\" in doc_6.txt, etc.). However, some documents aren’t perfectly classified, for instance, doc_3.txt was classified as “science&technology” (as a third topic) which is clearly wrong…\n",
    "\n",
    "So, one last thing we are going to do is to try yo find better [hyperparameter](https://pyss3.readthedocs.io/en/latest/user_guide/ss3-classifier.html#hyperparameters) values to improve our model's performance. To achieve this, we will perform what it is known as \"Hyperparameter Optimization\" using the ``PySS3 Command Line`` tool."
   ]
  },
  {
   "cell_type": "markdown",
   "metadata": {},
   "source": [
    "*<span style=\"color:blue\">At this point you should read the [\"Hyperparameter Optimization\"](https://pyss3.readthedocs.io/en/latest/tutorials/topic-categorization.html.html#topic_hyperparameter-optimization) section of this tutorial.</span>*\n",
    "\n",
    "As described in the \"Hyperparameter Optimization\" section, we found out that the following [hyperparameter](https://pyss3.readthedocs.io/en/latest/user_guide/ss3-classifier.html#hyperparameters) values will improve our classification performance"
   ]
  },
  {
   "cell_type": "code",
   "execution_count": null,
   "metadata": {},
   "outputs": [],
   "source": [
    "clf.set_hyperparameters(s=0.32, l=1.24, p=1.1)"
   ]
  },
  {
   "cell_type": "markdown",
   "metadata": {},
   "source": [
    "Let's see if it's true..."
   ]
  },
  {
   "cell_type": "code",
   "execution_count": null,
   "metadata": {},
   "outputs": [],
   "source": [
    "y_pred = clf.predict(x_test)"
   ]
  },
  {
   "cell_type": "code",
   "execution_count": null,
   "metadata": {},
   "outputs": [],
   "source": [
    "print(\"Accuracy:\", accuracy_score(y_pred, y_test))"
   ]
  },
  {
   "cell_type": "markdown",
   "metadata": {},
   "source": [
    "The accuracy has improved as expected :)\n",
    "\n",
    "Let's perform the last check and visualize what our final model has learned and how it is classifying the documents..."
   ]
  },
  {
   "cell_type": "code",
   "execution_count": null,
   "metadata": {},
   "outputs": [],
   "source": [
    "Server.serve(clf)  # <- ONLY WORKS if you're working locally, sorry :(\n",
    "                   #    if you're working online through Binder, it won't work\n",
    "\n",
    "# (!) Remember: to stop the server, press `Esc` and then the `I` key twice"
   ]
  },
  {
   "cell_type": "markdown",
   "metadata": {},
   "source": [
    "Perfect! now the documents are classified properly! (including *doc_3.txt*) :D\n",
    "\n",
    "...and that's it, nicely done buddy!"
   ]
  }
 ],
 "metadata": {
  "kernelspec": {
   "display_name": "Python3 (p3+pyss3)",
   "language": "python",
   "name": "p3.pyss3"
  },
  "language_info": {
   "codemirror_mode": {
    "name": "ipython",
    "version": 3
   },
   "file_extension": ".py",
   "mimetype": "text/x-python",
   "name": "python",
   "nbconvert_exporter": "python",
   "pygments_lexer": "ipython3",
   "version": "3.7.5"
  }
 },
 "nbformat": 4,
 "nbformat_minor": 2
}
